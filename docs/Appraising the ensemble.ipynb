{
 "cells": [
  {
   "cell_type": "markdown",
   "metadata": {},
   "source": [
    "# Appraising the ensemble\n",
    "\n",
    "References:\n",
    "\n",
    "    Malcolm Sambridge, Geophysical inversion with a neighbourhood algorithm—II. Appraising the ensemble, Geophysical Journal International, Volume 138, Issue 3, September 1999, Pages 727–746, https://doi.org/10.1046/j.1365-246x.1999.00900.x"
   ]
  },
  {
   "cell_type": "code",
   "execution_count": 1,
   "metadata": {},
   "outputs": [],
   "source": [
    "from pyNA import Sampler\n",
    "import pandas as pd\n",
    "import numpy as np"
   ]
  },
  {
   "cell_type": "markdown",
   "metadata": {},
   "source": [
    "## Step 1: Generate the ensemble"
   ]
  },
  {
   "cell_type": "code",
   "execution_count": 2,
   "metadata": {},
   "outputs": [],
   "source": [
    "def objective_function(inputs):\n",
    "    return np.abs((inputs[:, 0] - 0.2)**2 + (inputs[:, 1] - 0.4)**2)"
   ]
  },
  {
   "cell_type": "code",
   "execution_count": 3,
   "metadata": {},
   "outputs": [],
   "source": [
    "sampler = Sampler(objective_function=objective_function, \n",
    "                  n_initial=100,\n",
    "                  n_samples=50,\n",
    "                  n_resample=5,\n",
    "                  n_iterations=20)"
   ]
  },
  {
   "cell_type": "code",
   "execution_count": 4,
   "metadata": {},
   "outputs": [
    {
     "name": "stdout",
     "output_type": "stream",
     "text": [
      "iter 0, 100 models\n",
      "iter 1, 150 models\n",
      "iter 2, 200 models\n",
      "iter 3, 250 models\n",
      "iter 4, 300 models\n",
      "iter 5, 350 models\n",
      "iter 6, 400 models\n",
      "iter 7, 450 models\n",
      "iter 8, 500 models\n",
      "iter 9, 550 models\n",
      "iter 10, 600 models\n",
      "iter 11, 650 models\n",
      "iter 12, 700 models\n",
      "iter 13, 750 models\n",
      "iter 14, 800 models\n",
      "iter 15, 850 models\n",
      "iter 16, 900 models\n",
      "iter 17, 950 models\n",
      "iter 18, 1000 models\n",
      "iter 19, 1050 models\n"
     ]
    }
   ],
   "source": [
    "sampler.generate_ensemble()"
   ]
  },
  {
   "cell_type": "code",
   "execution_count": 5,
   "metadata": {},
   "outputs": [],
   "source": [
    "ensemble = pd.DataFrame(sampler.dim_models, columns=[\"param1\", \"param2\"])\n",
    "ensemble[\"misfit\"] = sampler.misfits"
   ]
  },
  {
   "cell_type": "markdown",
   "metadata": {},
   "source": [
    "## Step 2: Appraising the ensemble"
   ]
  },
  {
   "cell_type": "code",
   "execution_count": 6,
   "metadata": {},
   "outputs": [],
   "source": [
    "from pyNA import Appraise"
   ]
  },
  {
   "cell_type": "code",
   "execution_count": 7,
   "metadata": {},
   "outputs": [],
   "source": [
    "ensemble = ensemble.sort_values([\"misfit\"])"
   ]
  },
  {
   "cell_type": "code",
   "execution_count": 8,
   "metadata": {},
   "outputs": [],
   "source": [
    "models = np.array(ensemble[[\"param1\", \"param2\"]])\n",
    "misfits = np.array(ensemble.misfit)"
   ]
  },
  {
   "cell_type": "code",
   "execution_count": 9,
   "metadata": {},
   "outputs": [],
   "source": [
    "app = Appraise(models, 1, misfits)"
   ]
  },
  {
   "cell_type": "code",
   "execution_count": null,
   "metadata": {},
   "outputs": [
    {
     "name": "stdout",
     "output_type": "stream",
     "text": [
      "Doing walk step 0\n",
      "========Doing sleep step 0\n",
      "          Doing axis 0\n"
     ]
    }
   ],
   "source": [
    "app.na_walk(nsample=100, nsleep=10)"
   ]
  },
  {
   "cell_type": "code",
   "execution_count": null,
   "metadata": {},
   "outputs": [],
   "source": []
  },
  {
   "cell_type": "code",
   "execution_count": null,
   "metadata": {},
   "outputs": [],
   "source": []
  }
 ],
 "metadata": {
  "kernelspec": {
   "display_name": "Python 3",
   "language": "python",
   "name": "python3"
  },
  "language_info": {
   "codemirror_mode": {
    "name": "ipython",
    "version": 3
   },
   "file_extension": ".py",
   "mimetype": "text/x-python",
   "name": "python",
   "nbconvert_exporter": "python",
   "pygments_lexer": "ipython3",
   "version": "3.9.1"
  }
 },
 "nbformat": 4,
 "nbformat_minor": 4
}
